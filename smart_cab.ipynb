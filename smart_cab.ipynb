{
 "cells": [
  {
   "cell_type": "markdown",
   "metadata": {},
   "source": [
    "# Project 4: Reinforcement Learning\n",
    "### Train a Smartcab How to Drive\n",
    "<sub>Uirá Caiado. Jul 7, 2016<sub>"
   ]
  },
  {
   "cell_type": "markdown",
   "metadata": {},
   "source": [
    "#### Abstract\n",
    "\n",
    "*A smartcab is a self-driving car from the not-so-distant future that ferries people from one arbitrary location to another. In this project, I will design the AI driving agent for the smartcab using reinforcement learning. This [area of machine learning](https://en.wikipedia.org/wiki/Reinforcement_learning) is inspired by behaviorist psychology and consists in training the agent by reward and punishment without needing to specify how the task is to be achieved. The agent should learn an optimal policy for driving on city roads, obeying traffic rules correctly, and trying to reach the destination within a goal time.*\n",
    "\n",
    "\n",
    "## 1. Introduction\n",
    "\n",
    "In this section, I will present a brief introduction to reinforcement learning and to the problem addressed by this project.\n",
    "\n",
    "\n",
    "### 1.1. Reinforcement Learning\n",
    "\n",
    "As explained by \\cite{Mohri_2012}, reinforcement learning is the study of planning and learning in a scenario where a learner (or agent) actively interacts with the environment to achieve a particular goal. The achievement of the agent's goal is typically measured by the reward he receives from the environment and which he seeks to maximize.\n",
    "\n",
    "\\cite{Kaelbling_1996} state that the most significant difference between reinforcement learning and supervised learning is that there is no presentation of input/output pairs. Instead, they explained that after choosing an action, the agent is told the immediate reward and the following state, but is not told which action would have been in its best long-term interests. It is necessary for the agent to gather useful experience about the possible system states, actions, transitions and rewards actively to act optimally.\n",
    "\n",
    "Defining a general formulation of the problem based on a Markov Decision Process (MDP), as proposed by \\cite{Mitchell}, the agent can perceive a set $S$ os distinct states of its environment and has a set $A$ of actions that it can perform. So, at each discrete time step $t$, the agent senses the current state $s_t$ and choose to take an action $a_t$. The environment responds by providing the agent a reward $r_t=r(s_t, a_t)$ and by producing the succeeding state $s_{t+1}=\\delta(s_t, a_t)$. The functions $r$ and $\\delta$ only depend on the current state and action (it is [memoryless](https://en.wikipedia.org/wiki/Markov_process)), are part of the environment and are not necessarily known to the agent.\n",
    "\n",
    "The task of the agent is to learn a policy $\\pi$ that maps each state to an action ($\\pi: S \\rightarrow A$), selecting its next action $a_t$ based solely on the current observed state $s_t$, that is $\\pi(s_t)=a_t$. The optimal policy, or control strategy, is the one that produces the greatest possible cumulative reward over time. So, stating that:\n",
    "\n",
    "$$V^{\\pi}(s_t)= r_t + \\gamma r_{t+1} + \\gamma^2 r_{t+1} + ... = \\sum_{i=0}^{\\infty} \\gamma^{i} r_{t+i}$$\n",
    "\n",
    "Where $V^{\\pi}(s_t)$ is also called the discounted cumulative reward and it represents the cumulative value achieved by following an policy $\\pi$ from an initial state $s_t$ and $\\gamma \\in [0, 1]$ is a constant that determines the relative value of delayed versus immediate rewards. If we set $\\gamma=0$, only immediate rewards is considered. As $\\gamma \\rightarrow 1$, future rewards are given greater emphasis relative to immediate reward. The optimal policy $\\pi^{*}$ that will maximizes $V^{\\pi}(s_t)$ for all states $s$ can be written as:\n",
    "\n",
    "$$\\pi^{*} = \\underset{\\pi}{\\arg \\max} \\, V^{\\pi} (s)\\,\\,\\,\\,\\,, \\,\\, \\forall s$$\n",
    "\n",
    "As learning $\\pi^{*}: S \\rightarrow A$ directly is difficult because the available training data does not provide training examples of the form $(s, a)$, in the section 4 I will implement the Q-learning algorithm for estimating the optimal policy.\n",
    "\n",
    "\n",
    "### 1.2. What Will Be Done\n",
    "\n",
    "The goal of this project is to design the AI driving agent for the smartcab that operates in an idealized grid-like city.\n",
    "\n",
    "The smartcab is able to sense whether the traffic light is green for its direction of movement and whether there is a car at the intersection on each of the incoming roadways (and which direction they are trying to go). In addition to this, each trip has an associated timer that counts down every time step. If the timer is at $0$ and the destination has not been reached, the trip is over, and a new one may start.\n",
    "\n",
    "It should receive the inputs mentioned above at each time step t, and generate an output move, that consists on to stay put at the current intersection, move one block forward, one block left, or one block right (no backward movement).\n",
    "\n",
    "The smartcab also should receive a reward for each successfully completed trip. A trip is considered “successfully completed” if the passenger is dropped off at the desired destination within a pre-specified time bound. It also gets a smaller reward for each correct move executed at an intersection. It gets a minor penalty for a wrong move and a larger penalty for violating traffic rules and/or causing an accident.\n",
    "\n",
    "Based on the rewards and penalties it gets, the agent should learn an optimal policy for driving on city roads, obeying traffic rules correctly, and trying to reach the destination within a goal time."
   ]
  },
  {
   "cell_type": "markdown",
   "metadata": {},
   "source": [
    "## 2. Implement a Basic Driving Agent\n",
    "\n",
    "In this section, I will implement a basic driving agent that accepts specified inputs ans produces a valid output.\n",
    "\n",
    "```\n",
    "Udacity:\n",
    "\n",
    "Implement the basic driving agent, which processes the following inputs at each time step:\n",
    "\n",
    "Next waypoint location, relative to its current location and heading, Intersection state (traffic light and presence of cars), and, Current deadline value (time steps remaining), And produces some random move/action (None, 'forward', 'left', 'right'). Don’t try to implement the correct strategy! That’s exactly what your agent is supposed to learn.\n",
    "\n",
    "Run this agent within the simulation environment with enforce_deadline set to False (see run function in agent.py), and observe how it performs. In this mode, the agent is given unlimited time to reach the destination. The current state, action taken by your agent and reward/penalty earned are shown in the simulator.\n",
    "\n",
    "In your report, mention what you see in the agent’s behavior. Does it eventually make it to the target location?\n",
    "\n",
    "\n",
    "It is asked to:\n",
    "\n",
    "- Agent accepts inputs: Student is able to implement the desired interface to the agent that accepts specified inputs.\n",
    "- Produces a valid output: The driving agent produces a valid output (one of None, ‘forward’, ‘left’, ‘right’) in response to the inputs.\n",
    "- Runs in simulator: The driving agent runs in the simulator without errors. Rewards and penalties do not matter - it’s okay for the agent to make mistakes.\n",
    "```\n",
    "\n",
    "\n",
    "### 2.1. My Grid-Like World\n",
    "\n",
    "Let's start by testing the output produced by my current *world*, that will be used to analyze the results of this project. This *world* is a grid-like city, with roads going North-South and East-West. Other vehicles may be present on the streets, but no pedestrians. There is a traffic light at each intersection that can be in one of two states: North-South open or East-West open. US right-of-way rules apply: On a green light, you can turn left only if there is no oncoming traffic at the intersection coming straight. On a red light, you can turn right if there is no oncoming traffic turning left or traffic from the left going straight.\n",
    "\n",
    "We are told to assume that a higher-level planner assigns a route to the smartcab, splitting it into waypoints at each intersection. The time in this world is quantized and at any instant, the smartcab is at some intersection. Therefore, the next waypoint is always either one block straight ahead, one block left, one block right, one block back or exactly there (reached the destination). Below is a sample of the log file generated by the simulator."
   ]
  },
  {
   "cell_type": "code",
   "execution_count": 3,
   "metadata": {
    "collapsed": false
   },
   "outputs": [],
   "source": [
    "import random\n",
    "from smartcab.environment import Agent, Environment\n",
    "from smartcab.planner import RoutePlanner\n",
    "from smartcab.simulator import Simulator\n",
    "import smartcab.agent as agent; reload(agent);"
   ]
  },
  {
   "cell_type": "code",
   "execution_count": 16,
   "metadata": {
    "collapsed": true
   },
   "outputs": [],
   "source": [
    "e = Environment()  # create environment (also adds some dummy traffic)\n",
    "a = e.create_agent(agent.LearningAgent)  # create agent\n",
    "e.set_primary_agent(a, enforce_deadline=True)  # specify agent to track\n",
    "sim = Simulator(e, update_delay=0.5, display=False)"
   ]
  },
  {
   "cell_type": "code",
   "execution_count": 17,
   "metadata": {
    "collapsed": false
   },
   "outputs": [
    {
     "name": "stdout",
     "output_type": "stream",
     "text": [
      "Simulator.run(): Trial 0\n",
      "2016-07-16 16:29:32,947;Environment.reset(): Trial set up with start = (5, 2), destination = (2, 4), deadline = 25\n",
      "2016-07-16 16:29:32,960;RoutePlanner.route_to(): destination = (2, 4)\n",
      "2016-07-16 16:29:33,466;LearningAgent.update(): deadline = 25, inputs = {'light': 'red', 'oncoming': None, 'right': None, 'left': None}, action = None, reward = 0.0\n",
      "2016-07-16 16:29:33,966;LearningAgent.update(): deadline = 24, inputs = {'light': 'red', 'oncoming': None, 'right': None, 'left': None}, action = None, reward = 0.0\n",
      "2016-07-16 16:29:34,466;LearningAgent.update(): deadline = 23, inputs = {'light': 'red', 'oncoming': None, 'right': None, 'left': None}, action = None, reward = 0.0\n",
      "2016-07-16 16:29:34,966;LearningAgent.update(): deadline = 22, inputs = {'light': 'red', 'oncoming': None, 'right': 'forward', 'left': None}, action = None, reward = 0.0\n",
      "2016-07-16 16:29:35,466;LearningAgent.update(): deadline = 21, inputs = {'light': 'green', 'oncoming': None, 'right': 'forward', 'left': None}, action = None, reward = 0.0\n",
      "2016-07-16 16:29:35,966;LearningAgent.update(): deadline = 20, inputs = {'light': 'green', 'oncoming': None, 'right': 'forward', 'left': None}, action = None, reward = 0.0\n",
      "2016-07-16 16:29:36,466;LearningAgent.update(): deadline = 19, inputs = {'light': 'green', 'oncoming': None, 'right': 'forward', 'left': None}, action = None, reward = 0.0\n"
     ]
    }
   ],
   "source": [
    "# this test was performed before I implement the codes\n",
    "sim.run(n_trials=1)"
   ]
  },
  {
   "cell_type": "markdown",
   "metadata": {
    "collapsed": true
   },
   "source": [
    "### 2.3. The Basic Agent"
   ]
  },
  {
   "cell_type": "markdown",
   "metadata": {},
   "source": [
    "As mentioned before, I am going to implement a smartcab that processes the following inputs at each time step:\n",
    "\n",
    "- *Next waypoint location*: about its current position and heading\n",
    "- *Intersection state*: traffic light and presence of cars\n",
    "- *Current deadline value*: time steps remaining\n",
    "\n",
    "For the purposes of this project, the first implementation of the agent should produce just some random move at each time $t$, such that $a_t \\in (None,\\, forward,\\, left,\\, right)$. I will not implement the correct strategy because it is precisely what my agent is supposed to learn. Below I am going to simulate $99$ different trials with the `enforce_deadline` set to False and will save the logs produced by the agent to observe how it performs. In this mode, the agent is given unlimited time to reach the destination."
   ]
  },
  {
   "cell_type": "code",
   "execution_count": 34,
   "metadata": {
    "collapsed": false
   },
   "outputs": [
    {
     "name": "stdout",
     "output_type": "stream",
     "text": [
      "Number of Trials: 100\n",
      "Times that the agent reached the target location: 69\n",
      "Times the agent reached the hard deadline: 31\n",
      "Times the agent SUCCESSFULLY reached the target location: 21\n",
      "Counting of moves made:\n",
      "{'forward': 2018, 'None': 2085, 'right': 2035, 'left': 2094}\n"
     ]
    }
   ],
   "source": [
    "import smartcab.eda as eda; reload(eda);\n",
    "s_fname = 'log/sim_Mon_Jul_18_003801_2016.txt'\n",
    "l_aux, t_aux = eda.simple_counts(s_fname)"
   ]
  },
  {
   "cell_type": "markdown",
   "metadata": {},
   "source": [
    "As can be seen above, even using just random moves, the agent still was able to reach the target destination roughly $20%$ of the trials at the deadline stipulated by the Planner. If we considering all the times it reached the location, it was able to complete the route almost $70%$ of the trials. Now, I am going to produce same basic statistics about the times that it reached the target location."
   ]
  },
  {
   "cell_type": "code",
   "execution_count": 30,
   "metadata": {
    "collapsed": false
   },
   "outputs": [
    {
     "data": {
      "image/png": "[encoded data removed]",
      "text/plain": [
       "<matplotlib.figure.Figure at 0x11539d390>"
      ]
     },
     "metadata": {},
     "output_type": "display_data"
    }
   ],
   "source": [
    "import pandas as pd\n",
    "df_last = pd.DataFrame(l_last)\n",
    "ax = (df_last.ix[df_last.success==1, 'steps']).hist(bins=15, normed=True)\n",
    "ax.set_title(\"Steps The Agent Had Taken\\nto Reach the Taget Location\\n\", fontsize=15);\n",
    "ax.set_ylabel(\"% Frequency\")\n",
    "ax.set_xlabel(\"Number of Steps\");"
   ]
  },
  {
   "cell_type": "code",
   "execution_count": 31,
   "metadata": {
    "collapsed": false
   },
   "outputs": [
    {
     "data": {
      "text/html": [
       "<div>\n",
       "<table border=\"1\" class=\"dataframe\">\n",
       "  <thead>\n",
       "    <tr style=\"text-align: right;\">\n",
       "      <th></th>\n",
       "      <th>Number Of Steps</th>\n",
       "    </tr>\n",
       "  </thead>\n",
       "  <tbody>\n",
       "    <tr>\n",
       "      <th>count</th>\n",
       "      <td>69.000000</td>\n",
       "    </tr>\n",
       "    <tr>\n",
       "      <th>mean</th>\n",
       "      <td>59.884058</td>\n",
       "    </tr>\n",
       "    <tr>\n",
       "      <th>std</th>\n",
       "      <td>36.539880</td>\n",
       "    </tr>\n",
       "    <tr>\n",
       "      <th>min</th>\n",
       "      <td>2.000000</td>\n",
       "    </tr>\n",
       "    <tr>\n",
       "      <th>25%</th>\n",
       "      <td>24.000000</td>\n",
       "    </tr>\n",
       "    <tr>\n",
       "      <th>50%</th>\n",
       "      <td>60.000000</td>\n",
       "    </tr>\n",
       "    <tr>\n",
       "      <th>75%</th>\n",
       "      <td>91.000000</td>\n",
       "    </tr>\n",
       "    <tr>\n",
       "      <th>max</th>\n",
       "      <td>130.000000</td>\n",
       "    </tr>\n",
       "  </tbody>\n",
       "</table>\n",
       "</div>"
      ],
      "text/plain": [
       "       Number Of Steps\n",
       "count        69.000000\n",
       "mean         59.884058\n",
       "std          36.539880\n",
       "min           2.000000\n",
       "25%          24.000000\n",
       "50%          60.000000\n",
       "75%          91.000000\n",
       "max         130.000000"
      ]
     },
     "execution_count": 31,
     "metadata": {},
     "output_type": "execute_result"
    }
   ],
   "source": [
    "df_count = pd.DataFrame(df_last.ix[df_last.success==1, 'steps'])\n",
    "df_count.columns = [\"Number Of Steps\"]\n",
    "df_count.describe()"
   ]
  },
  {
   "cell_type": "markdown",
   "metadata": {},
   "source": [
    "It took 59 steps on average, and the variation was huge. The agent has taken from 2 steps to 130 to finish the route. In the section 4, I will try to improve that."
   ]
  },
  {
   "cell_type": "markdown",
   "metadata": {},
   "source": [
    "### 2.4. Identify and Update State\n",
    "\n",
    "```\n",
    "Udacity:\n",
    "\n",
    "It is asked to:\n",
    "\n",
    "- Reasonable states identified: Student has identified states that model the driving agent and environment, along with a sound justification. Justify why you picked these set of states, and how they model the agent and its environment.\n",
    "-  Agent updates state: The driving agent updates its state when running, based on current input. The exact state does not matter, and need not be correlated with inputs, but it should change during a run.\n",
    "```\n",
    "To complete the implementation of my Basic Agent, I still need to decide how it will represent its state internally. Considering the inputs that it receives before performs any action and, consequently, receives a reward, I will use a tuple using all of them to represent the current state of my agent, in the form $(inputs,\\, next\\_waypoint,\\, deadline)$. I believe that it will represent a reasonable set of states that my agent could use to gather more information from the environment.\n",
    "\n",
    "$Inputs$ is a dictionary with the state of the traffic light for the agents' direction of movement and the direction of the random agents on each of the incoming roadways (if any). $next\\_waypoint$ is the direction of the target location and $deadline$, a timer. So, let's count the number of stated that I get when I enforce deadline in my simulation on $100$ trials."
   ]
  },
  {
   "cell_type": "code",
   "execution_count": 59,
   "metadata": {
    "collapsed": false
   },
   "outputs": [
    {
     "name": "stdout",
     "output_type": "stream",
     "text": [
      "number of states in the state space: 891\n"
     ]
    }
   ],
   "source": [
    "s_fname = 'log/sim_Wed_Jul_20_234917_2016.txt'\n",
    "from collections import defaultdict\n",
    "d_count = defaultdict(int)\n",
    "\n",
    "with open(s_fname) as fr:\n",
    "    set_states = set()\n",
    "    for idx, row in enumerate(fr):\n",
    "        s_aux = row.strip().split(';')[1]\n",
    "        if 'LearningAgent.update' in s_aux:\n",
    "            f_aux, l_aux = s_aux[24:].split('action = ')\n",
    "            state = f_aux.strip() + ','.join(l_aux.split(\",\")[1:])\n",
    "            d_count[state] += 1\n",
    "            \n",
    "print 'number of states in the state space: {}'.format(len(d_count))"
   ]
  },
  {
   "cell_type": "code",
   "execution_count": 62,
   "metadata": {
    "collapsed": false
   },
   "outputs": [
    {
     "data": {
      "image/png": "[encoded data removed]",
      "text/plain": [
       "<matplotlib.figure.Figure at 0x11a0ff0d0>"
      ]
     },
     "metadata": {},
     "output_type": "display_data"
    }
   ],
   "source": [
    "import pandas as pd\n",
    "ax = pd.Series(d_count.values()).hist(bins=7)\n",
    "ax.set_xlabel(\"State Count\")\n",
    "ax.set_ylabel(\"Frequency\")\n",
    "ax.set_title(\"Distribution of Number of Times \\nEach State Has Appeared\\n\", fontsize=15);"
   ]
  },
  {
   "cell_type": "markdown",
   "metadata": {},
   "source": [
    "The figure above presents the frequency of the counting of each state. For instance, around $600$ states appeared just two times, more than $100$ appeared four times and so on. Curious the agent's behavior distribution looks like a log-normal distribution."
   ]
  },
  {
   "cell_type": "markdown",
   "metadata": {},
   "source": [
    "## 3. Implement Q-Learning\n",
    "\n",
    "In this section, I will briefelly explained the concept of Q-learning and implement an algorithm to learn the Q function.\n",
    "\n",
    "\n",
    "### 3.1. The Q-Function\n",
    "\n",
    "As mention before, to learn an optimal policy $\\pi^{*}$, I can't learn a function $\\pi^{*}: S \\rightarrow A$ that maps a state to the optimal action directly. There is no such information upfront to be used as training data. Instead, as \\cite{Mitchell} explained, the only available information is the sequence of immediate rewards $r(s_i, a_i)$ for $i=1,\\, 2,\\, 3,\\,...$\n",
    "\n",
    "So, as we are trying to maximize the cumulative rewards $V^{*}(s_t)$ for all states $s$, the agent should prefer $s_1$ over $s_2$ wherever $V^{*}(s_1) > V^{*}(s_2)$. Given that the agent must choose among actions and not states, and it isn't able to perfectly predict the immediate reward and immediate successor for every possible state-action transition, we also must learn $V^{*}$ indirectly.\n",
    "\n",
    "To solve that, we define a function $Q(s, \\, a)$ such that its value is the maximum discounted cumulative reward that can be achieved starting from state $s$ and applying action $a$ as the first action. So, we can write:\n",
    "\n",
    "$$Q(s, \\, a) = r(s, a) + \\gamma V^{*}(\\delta(s, a))$$\n",
    "\n",
    "As $\\delta(s, a)$ is the state resulting from applying action $a$ to state $s$ (the successor) chosen by following the optimal policy, $V^{*}$ is the cumulative value of the immediate successor state discounted by a factor $\\gamma$. Thus,  what we are trying to achieve is\n",
    "\n",
    "$$\\pi^{*}(s) = \\underset{a}{\\arg \\max} Q(s, \\, a)$$\n",
    "\n",
    "Thus, the optimal policy can be obtained even if the agent just uses the current action $a$ and state $s$ and chooses the action that maximizes $Q(s,\\, a)$. Also, it is important to notice that the function above implies that the agent can select optimal actions even when it has no knowledge of the functions $r$ and $\\delta$. In the next subsection, we will see how \\cite{Mitchell} defined a reliable way to estimate training values for $Q$, given only a sequence of immediate rewards $r$.\n",
    "\n",
    "\n",
    "### 3.2. Learning $Q$\n",
    "\n",
    "As we have seen, learning the Q function corresponds to learning the optimal policy. According to \\cite{Mohri_2012}, the optimal state-action value function $Q^{*}$ is defined for all $(s, \\, a) \\in S \\times A$ as the expected return for taking the action $a \\in A$ at the state $s \\in S$, following the optimal policy. So, it can be written as \\cite{Mitchell} suggested:\n",
    "\n",
    "$$V^{*}(s) = \\underset{a'}{\\arg \\max} Q(s, \\, a')$$\n",
    "\n",
    "Using this relationship, we can write a recursive definition of Q function, such that:\n",
    "\n",
    "$$Q(s, \\, a) = r(s, a) + \\gamma \\, \\underset{a'}{\\max} \\, Q(\\delta(s,\\, a), \\, a')$$\n",
    "\n",
    "The recursive nature of the function above implies that our agent doesn't know the actual $Q$ function. It just can estimate $Q$, that we will refer as $\\hat{Q}$. It will represents is hypothesis $\\hat{Q}$ as a large table that attributes each pair $(s\\, , \\, a)$ to a value for $\\hat{Q}(s,\\, a)$ - the current hypothesis about the actual but unknown value $Q(s, \\, a)$. I will initialize this table with zeros, but it could be filled with random numbers, according to \\cite{Mitchell}. Still according to him, the agent repeatedly should observe its current state $s$ and do the following:\n",
    "- Observe the current state $s$ and:\n",
    "    - Choose some action $a$ and execute it\n",
    "    - Receive the immediate reward $r = r(s, a)$\n",
    "    - initialize the table entry $\\hat{Q}(s, \\, a)$ to zero if there is no entry $(s, \\, a)$\n",
    "    - Observe the new state $s' = \\delta(s, \\,a)$. \n",
    "    - Updates the table entry for $\\hat{Q}(s, \\, a)$ following:\n",
    "        - $\\hat{Q}(s, \\, a) \\leftarrow r + \\gamma \\underset{a'}{\\max} \\hat{Q}(s', \\, a')$\n",
    "- $s \\leftarrow s'$\n",
    "    \n",
    "Note this training rule is suited to a deterministic Markov decision process (where $r(s,\\, a)$ and $\\delta(s,\\, a)$ are deterministics) and uses the agent's current $\\hat{Q}$ values for the new state $s'$ to refine its estimate of $\\hat{Q}(s, \\,a)$ for the previous state $s$. It is tricky. So, let's take a look at its performance."
   ]
  },
  {
   "cell_type": "markdown",
   "metadata": {},
   "source": [
    "```\n",
    "Udacity:\n",
    "\n",
    "It is asked to:\n",
    "\n",
    "- Agent updates Q-values: The driving agent updates a table/mapping of Q-values correctly, implementing the Q-Learning algorithm.\n",
    "- Picks the best action: Given the current set of Q-values for a state, it picks the best available action.\n",
    "- Changes in behavior explained: Student has reported the changes in behavior observed, and provided a reasonable explanation for them. What changes do you notice in the agent’s behavior?\n",
    "```"
   ]
  },
  {
   "cell_type": "code",
   "execution_count": 83,
   "metadata": {
    "collapsed": false
   },
   "outputs": [
    {
     "name": "stdout",
     "output_type": "stream",
     "text": [
      "Number of Trials: 100\n",
      "Times that the agent reached the target location: 55\n",
      "Times the agent reached the hard deadline: 45\n",
      "Times the agent SUCCESSFULLY reached the target location: 55\n",
      "Counting of moves made:\n",
      "{'forward': 486, 'None': 411, 'right': 857, 'left': 463}\n"
     ]
    }
   ],
   "source": [
    "import smartcab.eda as eda; reload(eda)\n",
    "s_fname = 'log/sim_Mon_Jul_25_015925_2016.txt'\n",
    "l_aux, t_aux = eda.simple_counts(s_fname)"
   ]
  },
  {
   "cell_type": "markdown",
   "metadata": {
    "collapsed": true
   },
   "source": [
    "The agent is reaching its destination much more frequently than before. When the agent selected its action randomly, it reached its destination just 21% of the times. Now, it is reaching 55%. Now the agent is always taking the \"safest action\":  takes the action with the biggest reward. It is not bad, but looking at the number of explored actions by state in the Q-table produced by this simulation, we can notice something curious"
   ]
  },
  {
   "cell_type": "code",
   "execution_count": 100,
   "metadata": {
    "collapsed": false
   },
   "outputs": [
    {
     "data": {
      "text/html": [
       "<div>\n",
       "<table border=\"1\" class=\"dataframe\">\n",
       "  <thead>\n",
       "    <tr style=\"text-align: right;\">\n",
       "      <th></th>\n",
       "      <th>count</th>\n",
       "    </tr>\n",
       "    <tr>\n",
       "      <th>Number of Explored Actions</th>\n",
       "      <th></th>\n",
       "    </tr>\n",
       "  </thead>\n",
       "  <tbody>\n",
       "    <tr>\n",
       "      <th>1</th>\n",
       "      <td>0.562814</td>\n",
       "    </tr>\n",
       "    <tr>\n",
       "      <th>2</th>\n",
       "      <td>0.211055</td>\n",
       "    </tr>\n",
       "    <tr>\n",
       "      <th>3</th>\n",
       "      <td>0.158291</td>\n",
       "    </tr>\n",
       "    <tr>\n",
       "      <th>4</th>\n",
       "      <td>0.067839</td>\n",
       "    </tr>\n",
       "  </tbody>\n",
       "</table>\n",
       "</div>"
      ],
      "text/plain": [
       "                               count\n",
       "Number of Explored Actions          \n",
       "1                           0.562814\n",
       "2                           0.211055\n",
       "3                           0.158291\n",
       "4                           0.067839"
      ]
     },
     "execution_count": 100,
     "metadata": {},
     "output_type": "execute_result"
    }
   ],
   "source": [
    "df_q_table = pd.read_csv('log/qtable.txt', sep='\\t')\n",
    "df_count = pd.DataFrame(4 - ((df_q_table.isnull())).sum(axis=1))\n",
    "df_count.columns= ['Number of Explored Actions'] \n",
    "df_count['count'] = 1\n",
    "df_grouped = df_count.groupby('Number of Explored Actions').sum()\n",
    "df_grouped = df_grouped * 1. / df_grouped.sum()\n",
    "df_grouped"
   ]
  },
  {
   "cell_type": "markdown",
   "metadata": {},
   "source": [
    "The agent explored just one possible action in $56\\%$ of the states in the Q-Table. According to \\cite{Mitchell}, there are some conditions to ensure that the algorithm converges toward a $\\hat{Q}$ equal to the true $Q$ function. One of them is that the system should be a deterministic MDP. Another is that the agent must select actions in a way that it visits every possible state-action pair infinitely often. Looking at the number of times this implementation of the agent explored all $4$ possibles actions (less than $7\\%$ of the states), I would say that it isn't true. In the next section, I will try to improve te agent's performance."
   ]
  },
  {
   "cell_type": "markdown",
   "metadata": {},
   "source": [
    "## 4. Enhance the Driving Agent\n",
    "\n",
    "In this section, I will try to improve the driving agent to make it consistently reaches the destination within allotted time and the net reward positive.\n",
    "```\n",
    "Udacity:\n",
    "\n",
    "It is asked to:\n",
    "- Improvements reported: Specific improvements made by the student beyond the basic Q-Learning implementation have been reported, including at least one parameter that was tuned along with the values tested. The corresponding results for each value are also reported.\n",
    "- Agent learns a feasible policy within 100 trials: The driving agent is able to consistently reach the destination within allotted time, with net reward remaining positive.\n",
    "```"
   ]
  },
  {
   "cell_type": "markdown",
   "metadata": {},
   "source": [
    "### 4.1. Experimentation Strategies\n",
    "\n",
    "One of the issues of the current strategy is that the agent could overcommit to actions that presented positive $\\hat{Q}$ values early in the simulation, failing to explore other actions that could present even higher values. \\cite{Mitchell} proposed to use a probabilistic approach to select actions, assigning higher probabilities to action with high $\\hat{Q}$ values, but given to every action at least a nonzero probability. So, I will implement the following relation:\n",
    "\n",
    "$$P(a_i\\, | \\,s ) = \\frac{k ^{\\hat{Q}(s, a_i)}}{\\sum_j k^{\\hat{Q}(s, a_j)}}$$\n",
    "\n",
    "Where $P(a_i\\, | \\,s )$ is the probability of selecting the action $a_i$ given the state $s$. The constant $k$ is positive and determines how strongly the selection favors action with high $\\hat{Q}$ values. Let's look at the number of times the algorithm choose to explore when we vary the value of the $k$."
   ]
  },
  {
   "cell_type": "code",
   "execution_count": null,
   "metadata": {
    "collapsed": true
   },
   "outputs": [],
   "source": [
    "import smartcab.eda as eda; reload(eda);"
   ]
  },
  {
   "cell_type": "code",
   "execution_count": 487,
   "metadata": {
    "collapsed": false
   },
   "outputs": [
    {
     "data": {
      "image/png": "[encoded data removed]",
      "text/plain": [
       "<matplotlib.figure.Figure at 0x123cfe890>"
      ]
     },
     "metadata": {},
     "output_type": "display_data"
    }
   ],
   "source": [
    "s_fname = 'log/sim_Tue_Jul_26_221055_2016.txt'\n",
    "d1, d2, d3 = eda.performance_measures(s_fname)\n",
    "df_plot = pd.DataFrame(d1) * 1.\n",
    "df_plot.index = [u'exploration', u'exploitation']\n",
    "ax = (df_plot / df_plot.sum()).T.plot()\n",
    "ax.set_xlabel('$k$')\n",
    "ax.set_ylabel('Ratio')\n",
    "ax.set_title('Exploration vs. Exploitation Ratio When\\n Choosing Different Values To $k$',\n",
    "             fontsize=15);"
   ]
  },
  {
   "cell_type": "markdown",
   "metadata": {},
   "source": [
    "As can be seen above, large values of $k$ assigned a higher probability of the agent exploits what it already has learned. Small values have made the agent favor the exploration of new actions. Now, let's see how the different values of $k$ impacted on the times the agent completed the routes."
   ]
  },
  {
   "cell_type": "code",
   "execution_count": 482,
   "metadata": {
    "collapsed": false
   },
   "outputs": [
    {
     "data": {
      "image/png": "[encoded data removed]",
      "text/plain": [
       "<matplotlib.figure.Figure at 0x125c62910>"
      ]
     },
     "metadata": {},
     "output_type": "display_data"
    }
   ],
   "source": [
    "ax = pd.Series(d3).plot()\n",
    "ax.set_xlabel('$k$')\n",
    "ax.set_ylabel('On-Time Ratio')\n",
    "ax.set_title('Successfully Compleated Routes When\\n Choosing Different Values To $k$',\n",
    "             fontsize=15);"
   ]
  },
  {
   "cell_type": "markdown",
   "metadata": {},
   "source": [
    "The agent presented a very steep improvement as $k$ was approaching $2$. Above this value, the completed trips ratio just showed a slight growth. Now, let's check how the number of trials changed the average reward received by the agent."
   ]
  },
  {
   "cell_type": "code",
   "execution_count": 483,
   "metadata": {
    "collapsed": false
   },
   "outputs": [
    {
     "data": {
      "image/png": "[encoded data removed]",
      "text/plain": [
       "<matplotlib.figure.Figure at 0x122d2be50>"
      ]
     },
     "metadata": {},
     "output_type": "display_data"
    }
   ],
   "source": [
    "df_plot = pd.DataFrame(d2).iloc[10:, 1:]\n",
    "df_plot = df_plot.unstack().reset_index()\n",
    "df_plot.columns = ['k', 'trials', 'average reward']\n",
    "\n",
    "def dateplot(x, y, **kwargs):\n",
    "    ax = plt.gca()\n",
    "    data = kwargs.pop(\"data\")\n",
    "    data.plot(x=x, y=y, ax=ax, **kwargs)\n",
    "\n",
    "g = sns.FacetGrid(df_plot, col=\"k\", col_wrap=4, size=2.5)\n",
    "g = g.map_dataframe(dateplot, \"trials\", \"average reward\")\n",
    "g.fig.suptitle(\"Cumulated Average Reward by Value of $k$\",\n",
    "               fontsize=16, y=1.04);"
   ]
  },
  {
   "cell_type": "markdown",
   "metadata": {},
   "source": [
    "Clearly, small values of $k$ are worst than large values. As I want that my agent has some probability of exploring new actions, and it seems that $k=2$ is the best choice (the \"slope\" is not so steep, and the start value is pretty high), I will use this parameter to perform the next simulations."
   ]
  },
  {
   "cell_type": "markdown",
   "metadata": {},
   "source": [
    "### 4.2. Nondeterministic Rewards and Actions\n",
    "\n",
    "The last modification that I want to introduce is when the environment is non-deterministic. As I said before, the algorithm used is appropriate to the deterministic case. On a nondeterministic environment, the reward function $r(s,\\,a)$ and action transition function $\\delta(s,\\,a)$ may have probabilistic outcomes. As there are other agents in the smartcab world, I believe that it is a proper assumption.\n",
    "\n",
    "As explained by \\cite{Mitchell}, to handle nondeterministic MDPs, it is needed to redefine the value $V^{*}$ to be expressed as a expected value. So, jumping to the $Q$ function, we can re-express $Q$ recursively as:\n",
    "\n",
    "\\begin{equation}\n",
    "\\begin{aligned}\n",
    "Q(s, \\, a) &= E \\left [r(s, a) \\right ] + E \\left [\\gamma \\, \\underset{a'}{\\max} \\, Q(\\delta(s,\\, a), \\, a')\\right ]\\\\\n",
    "&= E \\left [r(s, a) \\right ] + \\gamma \\,  E \\left [\\underset{a'}{\\max} \\, Q(\\delta(s,\\, a), \\, a')\\right ]\\\\\n",
    "&= E \\left [r(s, a) \\right ] + \\gamma \\,  \\sum_{s'} P\\left(s' \\,| \\,s, a   \\right) \\underset{a'}{\\max} \\, Q(\\delta(s,\\, a), \\, a')\n",
    "\\end{aligned}\n",
    "\\end{equation}\n",
    "\n",
    "\n",
    "Where $P\\left(s' \\,| \\,s, a   \\right)$ is the probability that taking action $a$ in state $s$ will produce the next state $s'$. To implement that, we need to assume that the $\\hat{Q}$ values in our table may be wrong, due to the nondeterministic behavior of our environment. So, \\cite{Mitchell} suggested to modifying the training rule by introducing a decaying weighted average factor to the current $\\hat{Q}$ value and to the revised estimate, such that:\n",
    "\n",
    "$$\\hat{Q}(s, \\, a) \\leftarrow  (1 - \\alpha_{n})\\, \\hat{Q}_{n-1}(s, \\, a) +  \\alpha_{n}\\left[ r + \\gamma \\underset{a'}{\\max} \\hat{Q}_{n-1}(s', \\, a') \\right ]$$\n",
    "\n",
    "where $\\alpha_{n} = \\frac{1}{1 - visits_{n}(s, \\,a)}$ and $visits_{n}$ is the total number of times this state-action $(s, \\, a)$ pair has been visited.\n"
   ]
  },
  {
   "cell_type": "code",
   "execution_count": null,
   "metadata": {
    "collapsed": true
   },
   "outputs": [],
   "source": []
  },
  {
   "cell_type": "code",
   "execution_count": null,
   "metadata": {
    "collapsed": true
   },
   "outputs": [],
   "source": []
  },
  {
   "cell_type": "code",
   "execution_count": null,
   "metadata": {
    "collapsed": true
   },
   "outputs": [],
   "source": []
  },
  {
   "cell_type": "markdown",
   "metadata": {
    "collapsed": true
   },
   "source": [
    "### 4.3. The last parameter to Tune: Gamma"
   ]
  },
  {
   "cell_type": "code",
   "execution_count": null,
   "metadata": {
    "collapsed": true
   },
   "outputs": [],
   "source": []
  },
  {
   "cell_type": "code",
   "execution_count": null,
   "metadata": {
    "collapsed": true
   },
   "outputs": [],
   "source": []
  },
  {
   "cell_type": "code",
   "execution_count": null,
   "metadata": {
    "collapsed": true
   },
   "outputs": [],
   "source": []
  },
  {
   "cell_type": "code",
   "execution_count": null,
   "metadata": {
    "collapsed": true
   },
   "outputs": [],
   "source": []
  },
  {
   "cell_type": "code",
   "execution_count": null,
   "metadata": {
    "collapsed": true
   },
   "outputs": [],
   "source": []
  },
  {
   "cell_type": "code",
   "execution_count": null,
   "metadata": {
    "collapsed": true
   },
   "outputs": [],
   "source": []
  },
  {
   "cell_type": "markdown",
   "metadata": {},
   "source": [
    "## 6. Conclusion\n",
    "\n",
    "\n",
    "bla bla bla"
   ]
  },
  {
   "cell_type": "markdown",
   "metadata": {
    "collapsed": true
   },
   "source": [
    "```\n",
    "Udacity:\n",
    "\n",
    "It is asked to:\n",
    "- Final agent performance discussed: A description is provided of what an ideal or optimal policy would be. The performance of the final driving agent is discussed and compared to how close it is to learning the stated optimal policy. Report what changes you made to your basic implementation of Q-Learning to achieve the final version of the agent. How well does it perform? Does your agent get close to finding an optimal policy, i.e. reach the destination in the minimum possible time, and not incur any penalties?\n",
    "```"
   ]
  },
  {
   "cell_type": "markdown",
   "metadata": {},
   "source": [
    "- compare to previous implementations"
   ]
  },
  {
   "cell_type": "code",
   "execution_count": null,
   "metadata": {
    "collapsed": true
   },
   "outputs": [],
   "source": []
  },
  {
   "cell_type": "code",
   "execution_count": null,
   "metadata": {
    "collapsed": true
   },
   "outputs": [],
   "source": []
  },
  {
   "cell_type": "code",
   "execution_count": null,
   "metadata": {
    "collapsed": true
   },
   "outputs": [],
   "source": []
  },
  {
   "cell_type": "code",
   "execution_count": null,
   "metadata": {
    "collapsed": true
   },
   "outputs": [],
   "source": []
  },
  {
   "cell_type": "code",
   "execution_count": null,
   "metadata": {
    "collapsed": true
   },
   "outputs": [],
   "source": []
  },
  {
   "cell_type": "markdown",
   "metadata": {},
   "source": [
    "## 7. Reflection\n",
    "\n",
    "\n",
    "bla bla bla"
   ]
  },
  {
   "cell_type": "code",
   "execution_count": null,
   "metadata": {
    "collapsed": true
   },
   "outputs": [],
   "source": []
  },
  {
   "cell_type": "code",
   "execution_count": null,
   "metadata": {
    "collapsed": true
   },
   "outputs": [],
   "source": []
  },
  {
   "cell_type": "markdown",
   "metadata": {},
   "source": [
    "*Style notebook and change matplotlib defaults*"
   ]
  },
  {
   "cell_type": "code",
   "execution_count": 1,
   "metadata": {
    "collapsed": false
   },
   "outputs": [
    {
     "data": {
      "text/html": [
       "<style>\n",
       "    @font-face {\n",
       "        font-family: \"Computer Modern\";\n",
       "        src: url('http://9dbb143991406a7c655e-aa5fcb0a5a4ec34cff238a2d56ca4144.r56.cf5.rackcdn.com/cmunss.otf');\n",
       "    }\n",
       "    @font-face {\n",
       "        font-family: \"Computer Modern\";\n",
       "        font-weight: bold;\n",
       "        src: url('http://9dbb143991406a7c655e-aa5fcb0a5a4ec34cff238a2d56ca4144.r56.cf5.rackcdn.com/cmunsx.otf');\n",
       "    }\n",
       "    @font-face {\n",
       "        font-family: \"Computer Modern\";\n",
       "        font-style: oblique;\n",
       "        src: url('http://9dbb143991406a7c655e-aa5fcb0a5a4ec34cff238a2d56ca4144.r56.cf5.rackcdn.com/cmunsi.otf');\n",
       "    }\n",
       "    @font-face {\n",
       "        font-family: \"Computer Modern\";\n",
       "        font-weight: bold;\n",
       "        font-style: oblique;\n",
       "        src: url('http://9dbb143991406a7c655e-aa5fcb0a5a4ec34cff238a2d56ca4144.r56.cf5.rackcdn.com/cmunso.otf');\n",
       "    }\n",
       "    div.cell{\n",
       "        width:800px;\n",
       "        margin-left:16% !important;\n",
       "        margin-right:auto;\n",
       "    }\n",
       "    h1 {\n",
       "        font-family: Helvetica, serif;\n",
       "    }\n",
       "    h4{\n",
       "        margin-top:12px;\n",
       "        margin-bottom: 3px;\n",
       "       }\n",
       "    div.text_cell_render{\n",
       "        font-family: Computer Modern, \"Helvetica Neue\", Arial, Helvetica, Geneva, sans-serif;\n",
       "        line-height: 145%;\n",
       "        font-size: 130%;\n",
       "        width:800px;\n",
       "        margin-left:auto;\n",
       "        margin-right:auto;\n",
       "    }\n",
       "    .CodeMirror{\n",
       "            font-family: \"Source Code Pro\", source-code-pro,Consolas, monospace;\n",
       "    }\n",
       "    .prompt{\n",
       "        display: None;\n",
       "    }\n",
       "    .text_cell_render h5 {\n",
       "        font-weight: 300;\n",
       "        font-size: 22pt;\n",
       "        color: #4057A1;\n",
       "        font-style: italic;\n",
       "        margin-bottom: .5em;\n",
       "        margin-top: 0.5em;\n",
       "        display: block;\n",
       "    }\n",
       "\n",
       "    .warning{\n",
       "        color: rgb( 240, 20, 20 )\n",
       "        }\n",
       "</style>\n",
       "\n",
       "\n",
       "\n",
       "<style>\n",
       "    table {\n",
       "        overflow:hidden;\n",
       "        font-family: Computer Modern, \"Helvetica Neue\", Arial, Helvetica, Geneva, sans-serif;\n",
       "        font-size: 12px;\n",
       "        margin: 10px;\n",
       "        width: 480px;\n",
       "        text-align: left;\n",
       "        border-collapse: collapse;\n",
       "        border: 1px solid #d3d3d3;\n",
       "        -moz-border-radius:5px; FF1+;\n",
       "        -webkit-border-radius:5px; Saf3-4;\n",
       "        border-radius:5px;\n",
       "        -moz-box-shadow: 0 0 4px rgba(0, 0, 0, 0.01);\n",
       "    }\n",
       "    th\n",
       "    {\n",
       "        padding: 12px 17px 12px 17px;\n",
       "        font-weight: normal;\n",
       "        font-size: 14px;\n",
       "        border-bottom: 1px dashed #69c;\n",
       "    }\n",
       "\n",
       "    td\n",
       "    {\n",
       "        padding: 7px 17px 7px 17px;\n",
       "\n",
       "    }\n",
       "\n",
       "    tbody tr:hover th\n",
       "    {\n",
       "\n",
       "        background:  #E9E9E9;\n",
       "    }\n",
       "\n",
       "    tbody tr:hover td\n",
       "    {\n",
       "\n",
       "        background:  #E9E9E9;\n",
       "    }\n",
       "\n",
       "</style>\n",
       "\n",
       "<script>\n",
       "    MathJax.Hub.Config({\n",
       "                        TeX: {\n",
       "                           extensions: [\"AMSmath.js\"]\n",
       "                           },\n",
       "                tex2jax: {\n",
       "                    inlineMath: [ ['$','$'], [\"\\\\(\",\"\\\\)\"] ],\n",
       "                    displayMath: [ ['$$','$$'], [\"\\\\[\",\"\\\\]\"] ]\n",
       "                },\n",
       "                displayAlign: 'center', // Change this to 'center' to center equations.\n",
       "                \"HTML-CSS\": {\n",
       "                    styles: {'.MathJax_Display': {\"margin\": 4}}\n",
       "                }\n",
       "        });\n",
       "</script>\n"
      ],
      "text/plain": [
       "<IPython.core.display.HTML object>"
      ]
     },
     "execution_count": 1,
     "metadata": {},
     "output_type": "execute_result"
    }
   ],
   "source": [
    "#loading style sheet\n",
    "from IPython.core.display import HTML\n",
    "HTML( open('ipython_style.css').read())"
   ]
  },
  {
   "cell_type": "code",
   "execution_count": 2,
   "metadata": {
    "collapsed": false
   },
   "outputs": [],
   "source": [
    "#changing matplotlib defaults\n",
    "%matplotlib inline\n",
    "import seaborn as sns\n",
    "sns.set_palette(\"deep\", desat=.6)\n",
    "sns.set_context(rc={\"figure.figsize\": (8, 4)})\n",
    "sns.set_style(\"whitegrid\")\n",
    "sns.set_palette(sns.color_palette(\"Set2\", 10))"
   ]
  },
  {
   "cell_type": "code",
   "execution_count": null,
   "metadata": {
    "collapsed": true
   },
   "outputs": [],
   "source": []
  }
 ],
 "metadata": {
  "kernelspec": {
   "display_name": "Python 2",
   "language": "python",
   "name": "python2"
  },
  "language_info": {
   "codemirror_mode": {
    "name": "ipython",
    "version": 2
   },
   "file_extension": ".py",
   "mimetype": "text/x-python",
   "name": "python",
   "nbconvert_exporter": "python",
   "pygments_lexer": "ipython2",
   "version": "2.7.12"
  }
 },
 "nbformat": 4,
 "nbformat_minor": 0
}
